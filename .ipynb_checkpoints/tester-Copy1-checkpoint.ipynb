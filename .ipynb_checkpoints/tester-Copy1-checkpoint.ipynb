{
 "cells": [
  {
   "cell_type": "code",
   "execution_count": 78,
   "metadata": {
    "collapsed": false
   },
   "outputs": [
    {
     "name": "stdout",
     "output_type": "stream",
     "text": [
      "[[1 2 3]\n",
      " [4 5 6]] 2 2\n",
      "[1] 1\n",
      "[1]\n",
      "[1]\n",
      "[1]\n",
      "=====\n",
      "[ 0.  1.  2.  3.  4.  5.  6.  7.  8.  9.]\n",
      "[array([1]), array([3, 4])] wtf\n",
      "=====\n",
      "[[3]]\n",
      "[[3]]\n",
      "[3]\n",
      "[[4]]\n",
      "[[3 3 4 5]]\n",
      "[[3]\n",
      " [3]\n",
      " [4]\n",
      " [5]]\n"
     ]
    }
   ],
   "source": [
    "x = np.arange(1,7).reshape(2,3)\n",
    "x1 = np.array([1])\n",
    "xtuple1 = (1,)\n",
    "print x,x.shape[0],x.shape[0]\n",
    "print x1,x1.ndim\n",
    "print np.atleast_1d(x1)\n",
    "xn1 = 1\n",
    "print np.atleast_1d(xn1)\n",
    "print np.atleast_1d(xtuple1)\n",
    "print \"=====\"\n",
    "print np.arange(9.1)\n",
    "print np.atleast_1d(1, [3, 4]), \"wtf\"\n",
    "print \"=====\"\n",
    "print np.atleast_2d(3)\n",
    "print np.atleast_2d([3])\n",
    "print np.atleast_2d([3]).base\n",
    "print np.atleast_2d((4,))\n",
    "print np.atleast_2d([3,3,4,5])\n",
    "print np.atleast_2d([3,3,4,5]).T\n"
   ]
  },
  {
   "cell_type": "code",
   "execution_count": null,
   "metadata": {
    "collapsed": true
   },
   "outputs": [],
   "source": []
  },
  {
   "cell_type": "code",
   "execution_count": 53,
   "metadata": {
    "collapsed": false
   },
   "outputs": [
    {
     "name": "stdout",
     "output_type": "stream",
     "text": [
      "[[1 2 3]\n",
      " [4 5 6]] [1 2 3 4 5 6]\n",
      "[1 2 3 4 5 6] [1 4 2 5 3 6]\n",
      "[[1 4]\n",
      " [2 5]\n",
      " [3 6]] [1 4 2 5 3 6]\n",
      "====\n",
      "4\n"
     ]
    }
   ],
   "source": [
    "x = np.arange(1,7).reshape(2,3)\n",
    "print x, x.reshape(-1)\n",
    "print x.ravel(),x.ravel(order=\"F\")\n",
    "print x.T, x.T.ravel()\n",
    "print \"====\"\n",
    "print x.flat[3],\"this is a werido\""
   ]
  },
  {
   "cell_type": "code",
   "execution_count": 37,
   "metadata": {
    "collapsed": false
   },
   "outputs": [
    {
     "name": "stdout",
     "output_type": "stream",
     "text": [
      "[0 1 2 3 4 5] [0 1 2 3 4 5]\n",
      "[[ 1.  2.]\n",
      " [ 3.  4.]] [[ 1.  3.]\n",
      " [ 2.  4.]]\n",
      "=====\n",
      "[[ 1.  2.  3.  4.]\n",
      " [ 5.  6.  7.  8.]] (2, 4) [[ 1.  5.]\n",
      " [ 2.  6.]\n",
      " [ 3.  7.]\n",
      " [ 4.  8.]]\n",
      "(4, 2)\n",
      "=====\n",
      "[[[ 1.  1.  1.]\n",
      "  [ 1.  1.  1.]]] (1, 2, 3) 3 6\n",
      "[[[ 1.]\n",
      "  [ 1.]]\n",
      "\n",
      " [[ 1.]\n",
      "  [ 1.]]\n",
      "\n",
      " [[ 1.]\n",
      "  [ 1.]]] (3, 2, 1)\n",
      "[[[ 1.  1.  1.]]\n",
      "\n",
      " [[ 1.  1.  1.]]]\n",
      "(2, 1, 3)\n"
     ]
    }
   ],
   "source": [
    "b = np.arange(6)\n",
    "print b, b.T\n",
    "c = np.array([[1.,2.],[3.,4.]])\n",
    "print c, c.T\n",
    "print \"=====\"\n",
    "d = np.arange(1,9,dtype=np.float).reshape((2,4))\n",
    "print d, d.shape, d.transpose()\n",
    "print d.transpose().shape\n",
    "print \"=====\"\n",
    "e = np.ones((1,2,3))\n",
    "print e, e.shape, e.ndim, e.size\n",
    "print e.transpose(),e.transpose().shape\n",
    "print e.transpose((1,0,2))\n",
    "print e.transpose((1,0,2)).shape"
   ]
  },
  {
   "cell_type": "code",
   "execution_count": 38,
   "metadata": {
    "collapsed": false
   },
   "outputs": [
    {
     "name": "stdout",
     "output_type": "stream",
     "text": [
      "[[ 0.  0.]\n",
      " [ 0.  0.]\n",
      " [ 0.  0.]\n",
      " [ 0.  0.]\n",
      " [ 0.  0.]] [[ 0.  0.  0.  0.  0.]\n",
      " [ 0.  0.  0.  0.  0.]]\n",
      "[ 0.  0.  0.  0.  0.  0.  0.  0.  0.  0.] [ 0.  0.  0.  0.  0.  0.  0.  0.  0.  0.]\n",
      "[ 0.  0.  0.  0.  0.  0.  0.  0.  0.  0.]\n",
      "[[ 0.  0.]\n",
      " [ 0.  0.]\n",
      " [ 0.  0.]\n",
      " [ 0.  0.]\n",
      " [ 0.  0.]] [[ 0.  0.  0.  0.  0.]\n",
      " [ 0.  0.  0.  0.  0.]]\n",
      "[[ 0.  0.  0.  0.  0.]\n",
      " [ 0.  0.  0.  0.  0.]]\n",
      "[ 0.  0.  0.  0.  0.  0.  0.  0.  0.  0.]\n",
      "[[0.0, 0.0], [0.0, 0.0], [0.0, 0.0], [0.0, 0.0], [0.0, 0.0]]\n"
     ]
    }
   ],
   "source": [
    "a = np.zeros((5,2))\n",
    "print a, a.reshape((2,5))\n",
    "print a.reshape(10), a.reshape((10,))\n",
    "print a.reshape(-1)\n",
    "print a, np.reshape(a,(2,5))\n",
    "print a.reshape((2,-1))\n",
    "print a.tolist()"
   ]
  },
  {
   "cell_type": "code",
   "execution_count": 2,
   "metadata": {
    "collapsed": false
   },
   "outputs": [
    {
     "data": {
      "image/png": "[encoded data removed]",
      "text/plain": [
       "<matplotlib.figure.Figure at 0x104a620d0>"
      ]
     },
     "metadata": {},
     "output_type": "display_data"
    }
   ],
   "source": [
    "import numpy as np\n",
    "%matplotlib inline\n",
    "import matplotlib.pyplot as plt\n",
    "N=8\n",
    "y = np.zeros(N)\n",
    "x1 = np.linspace(0,10,N,endpoint=True)\n",
    "x2 = np.linspace(0,10,N,endpoint=False)\n",
    "plt.plot(x1,y,'o')\n",
    "plt.plot(x2,y+0.5,'o')\n",
    "plt.ylim([-0.5,1])\n",
    "plt.show()"
   ]
  },
  {
   "cell_type": "code",
   "execution_count": 136,
   "metadata": {
    "collapsed": false
   },
   "outputs": [
    {
     "name": "stdout",
     "output_type": "stream",
     "text": [
      "[0, 1, 2] [1] [1, 3, 5, 7]\n",
      "[0, 1, 2] [] [-3, -2, -1]\n",
      "[0, -1, -2]\n",
      "4 [0, 1, 2, 3]\n",
      "=====\n",
      "[0 1 2] <type 'numpy.ndarray'>\n",
      "[ 2.    2.25  2.5   2.75  3.  ]\n",
      "[ 2.    2.25  2.5   2.75  3.  ]\n",
      "[ 0.    1.25  2.5   3.75  5.  ]\n",
      "[ 0.  1.  2.  3.  4.]\n"
     ]
    }
   ],
   "source": [
    "print range(3),range(1,2), range(1,9,2)\n",
    "print range(0,3),range(0,-3),range(-3,0)\n",
    "print range(0,-3,-1)\n",
    "rlist = [1,2,3,4]\n",
    "print len(rlist), range(len(rlist))\n",
    "# print range(0,4.4)\n",
    "print \"=====\"\n",
    "print np.arange(3), type(np.arange(3))\n",
    "# print np.arange(0,3.5)\n",
    "print np.linspace(2,3,5)\n",
    "print np.linspace(2,3,num=5)\n",
    "print np.linspace(0,5,num=5,endpoint=True)\n",
    "print np.linspace(0,5,num=5,endpoint=False)"
   ]
  },
  {
   "cell_type": "code",
   "execution_count": 103,
   "metadata": {
    "collapsed": false
   },
   "outputs": [
    {
     "name": "stdout",
     "output_type": "stream",
     "text": [
      "[[ 1.  1.]\n",
      " [ 1.  1.]]\n",
      "[[1 1]\n",
      " [1 1]]\n",
      "[[1 1]\n",
      " [1 1]]\n",
      "------\n",
      "[[ 1.  1.]\n",
      " [ 1.  1.]] [ 1.  1.] [ 1.  1.]\n",
      "[ 1.  1.]\n",
      "-----\n",
      "[[[ 1.  1.  1.  1.]\n",
      "  [ 1.  1.  1.  1.]\n",
      "  [ 1.  1.  1.  1.]]\n",
      "\n",
      " [[ 1.  1.  1.  1.]\n",
      "  [ 1.  1.  1.  1.]\n",
      "  [ 1.  1.  1.  1.]]]\n"
     ]
    }
   ],
   "source": [
    "s = (2,2)\n",
    "print np.ones(s,dtype=np.float)\n",
    "print np.ones(s,dtype=np.int,order='C')\n",
    "print np.ones(s,dtype=np.int,order='F')\n",
    "print \"------\"\n",
    "s2 = [2,2]\n",
    "sd = [2]\n",
    "sA = (2,)\n",
    "sn = 2\n",
    "s2d = [[2],[2]]\n",
    "print np.ones(s2), np.ones(sd), np.ones(sA)\n",
    "print np.ones(sn)\n",
    "print \"-----\"\n",
    "s3 = [2,3,4]\n",
    "print np.ones(s3)\n",
    "# print np.ones(s2d)\n",
    "# wrong = [2,[1,2]]\n",
    "# wrong2 = [[1,2],[2,3]]\n",
    "# print np.ones(wrong2)"
   ]
  },
  {
   "cell_type": "code",
   "execution_count": 93,
   "metadata": {
    "collapsed": false
   },
   "outputs": [
    {
     "name": "stdout",
     "output_type": "stream",
     "text": [
      "<type 'tuple'> 2 <type 'int'>\n",
      "------\n",
      "<type 'tuple'> 2 <type 'int'>\n",
      "------\n",
      "<type 'tuple'> <type 'int'> <type 'tuple'>\n",
      "-----\n",
      "[(2, 3, 4)] <type 'list'> (2, 3, 4)\n",
      "<type 'list'> <type 'numpy.ndarray'>\n",
      "-----\n",
      "[1 2 3 4] <type 'numpy.ndarray'>\n",
      "[1 2 3] <type 'numpy.ndarray'>\n",
      "[[1 2 3]\n",
      " [2 3 4]] <type 'numpy.ndarray'> (2, 3)\n",
      "-----\n",
      "[[[ 0.  0.  0.  0.]\n",
      "  [ 0.  0.  0.  0.]\n",
      "  [ 0.  0.  0.  0.]]\n",
      "\n",
      " [[ 0.  0.  0.  0.]\n",
      "  [ 0.  0.  0.  0.]\n",
      "  [ 0.  0.  0.  0.]]] <type 'numpy.ndarray'> 3\n",
      "-----\n",
      "[[1, 2, 3] [2, 3] [3, 4]]\n",
      "[[1] [2] [3, 4]]\n",
      "-----\n"
     ]
    }
   ],
   "source": [
    "inside = (2,3,4)\n",
    "print type(inside), inside[0], type(inside[0])\n",
    "print \"------\"\n",
    "inside2 = ((2),3,4)\n",
    "print type(inside2), inside2[0], type(inside2[0])\n",
    "print \"------\"\n",
    "oneA = (2,)\n",
    "one = (2)\n",
    "two = (2,3)\n",
    "print type(oneA), type(one), type(two)\n",
    "print \"-----\"\n",
    "coat = [inside]\n",
    "print coat, type(coat), coat[0]\n",
    "simplelist = [1,2,3,4]\n",
    "print type(simplelist), type(A)\n",
    "print \"-----\"\n",
    "unknown = np.array((1,2,3,4))\n",
    "print unknown, type(unknown)\n",
    "unknown2 = np.array((1,2,(3)))\n",
    "print unknown2, type(unknown2)\n",
    "# unknown3 = np.array((1,2,(3,4)))\n",
    "# print unknown3, type(unknown3)\n",
    "unknown4 = np.array([(1,2,3),(2,3,4)])\n",
    "print unknown4, type(unknown4), unknown4.shape\n",
    "# unknown5 = np.array([1,2,3],(4,5,6))\n",
    "# print unknown5\n",
    "print \"-----\"\n",
    "zeros = np.zeros((2,3,4))\n",
    "print zeros, type(zeros),zeros.ndim\n",
    "print \"-----\"\n",
    "# wrong = np.array([1,2,[3,4]])\n",
    "strange = np.array(([1,2,3],[2,3],[3,4]))\n",
    "print strange\n",
    "strange2 = np.array([[1],[2],[3,4]])\n",
    "print strange2\n",
    "print \"-----\"\n"
   ]
  },
  {
   "cell_type": "code",
   "execution_count": 63,
   "metadata": {
    "collapsed": false,
    "scrolled": false
   },
   "outputs": [
    {
     "name": "stdout",
     "output_type": "stream",
     "text": [
      "[1 2 3 4 5] 1 (5,) 5 <type 'numpy.ndarray'>\n",
      "---\n",
      "[[1 2 3]\n",
      " [4 5 6]]\n",
      "2\n",
      "(2, 3)\n",
      "2\n",
      "1\n",
      "4\n",
      "(4,)\n",
      "<type 'tuple'>\n",
      "<type 'int'>\n",
      "<type 'int'>\n"
     ]
    }
   ],
   "source": [
    "\n",
    "A = np.array([1,2,3,4,5])\n",
    "# A = np.array([[1,2,3,4,5]])\n",
    "B = np.array([[1],[2],[3],[4]])\n",
    "C = np.array([[1,2],[2,3],[3,4],[4,5]])\n",
    "M = np.array([[1,2,3],[4,5,6]])\n",
    "\n",
    "print A, A.ndim, A.shape, A.shape[0], type(A)\n",
    "print \"---\"\n",
    "print M\n",
    "print M.ndim\n",
    "print M.shape\n",
    "print M.shape[0]\n",
    "\n",
    "x = np.array([1, 2, 3, 4])\n",
    "print x.ndim\n",
    "print x.shape[0]\n",
    "print x.shape\n",
    "print type(x.shape)\n",
    "print type(x.ndim)\n",
    "print type(x.size)"
   ]
  }
 ],
 "metadata": {
  "kernelspec": {
   "display_name": "Python 2",
   "language": "python",
   "name": "python2"
  },
  "language_info": {
   "codemirror_mode": {
    "name": "ipython",
    "version": 2
   },
   "file_extension": ".py",
   "mimetype": "text/x-python",
   "name": "python",
   "nbconvert_exporter": "python",
   "pygments_lexer": "ipython2",
   "version": "2.7.10"
  }
 },
 "nbformat": 4,
 "nbformat_minor": 0
}
