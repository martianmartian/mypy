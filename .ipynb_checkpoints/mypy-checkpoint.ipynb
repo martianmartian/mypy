{
 "cells": [
  {
   "cell_type": "code",
   "execution_count": 111,
   "metadata": {
    "collapsed": false
   },
   "outputs": [
    {
     "name": "stdout",
     "output_type": "stream",
     "text": [
      "self.wDict {0: [0.90000000000000002, 0.90000000000000002, 0.90000000000000002, 0.90000000000000002, 0.90000000000000002, 0.90000000000000002, 0.90000000000000002], 1: [0.90000000000000002, 0.90000000000000002], 2: [0.69999999999999996, 0.69999999999999996]}\n",
      "1  weight not changed\n",
      "2  weight not changed\n"
     ]
    }
   ],
   "source": [
    "\n",
    "class Layer_w_tanh:\n",
    "    def __init__(self,wFactor):\n",
    "        self.response = np.tanh\n",
    "        self.adapt={  \n",
    "            'habituateAT':7,     # by nature\n",
    "            'enhanceAT':2       # by nature\n",
    "        }\n",
    "        self.adaptFactor=0.1   # by nature\n",
    "        self.threshold = 1 # changes, not up-bounded. such a weird thing to have.... changes based on enviroment... like ion concentraction\n",
    "        self.wFactor=np.array(wFactor)\n",
    "        self.wDict={}\n",
    "        self.charge={}\n",
    "        self.discharge={}\n",
    "    def adaptW(self,i,Xi): \n",
    "        if Xi>=self.adapt['habituateAT']:\n",
    "            self.wDict[i] = np.array(self.wDict[i]) - self.adaptFactor  #  need to refine it.. self.eta * error * x or something like that...\n",
    "        elif Xi>=self.adapt['enhanceAT']:\n",
    "            self.wDict[i] = np.array(self.wDict[i]) + self.adaptFactor\n",
    "        else:\n",
    "            print i, \" weight not changed\"\n",
    "    def x2w(self,X):\n",
    "        for i, wFactor in enumerate(self.wFactor):\n",
    "            if X[i]>self.adapt['habituateAT']:\n",
    "                X[i]=self.adapt['habituateAT']\n",
    "            self.wDict[i]=[wFactor]*X[i].round(0)   # extend each list only, not changing value\n",
    "    def chargeBY(self,X):\n",
    "        for i, neuron in self.wDict.iteritems():\n",
    "            self.charge[i] = np.array(neuron)*X[i]\n",
    "            self.adaptW(i,X[i])\n",
    "#             print i,np.array(neuron)*X[i]\n",
    "    def responseTO(self,X):\n",
    "        for i, charge in self.charge.iteritems():\n",
    "#             print i, self.response(charge-self.threshold)\n",
    "            self.discharge[i]=self.response(charge-self.threshold)\n",
    "#         print self.discharge\n",
    "    def stimulateBY(self,X):\n",
    "        self.x2w(X)\n",
    "        print \"self.wDict\",self.wDict\n",
    "        self.chargeBY(X)\n",
    "        self.responseTO(X)\n",
    "\n",
    "wFactor=[0.9,0.9,0.7] # 0<=w<=1, load from file, none random.\n",
    "group1 = Layer_w_tanh(wFactor)\n",
    "X= np.array([8,1.5,1.5])\n",
    "group1.stimulateBY(X)"
   ]
  },
  {
   "cell_type": "code",
   "execution_count": 99,
   "metadata": {
    "collapsed": false
   },
   "outputs": [
    {
     "name": "stdout",
     "output_type": "stream",
     "text": [
      "group1.wDict {0: [0.90000000000000002, 0.90000000000000002, 0.90000000000000002, 0.90000000000000002, 0.90000000000000002, 0.90000000000000002, 0.90000000000000002], 1: [0.90000000000000002, 0.90000000000000002], 2: [0.69999999999999996, 0.69999999999999996]}\n"
     ]
    }
   ],
   "source": [
    "print \"group1.wDict\",group1.wDict"
   ]
  },
  {
   "cell_type": "code",
   "execution_count": 118,
   "metadata": {
    "collapsed": false
   },
   "outputs": [
    {
     "name": "stdout",
     "output_type": "stream",
     "text": [
      "[[9, 9, 9, 0, 0, 0] [0, 9]] [0, 9, 0, 9] {0: [0, 9, 0, 9]}\n"
     ]
    }
   ],
   "source": [
    "a=np.array([[9,9,9,0,0,0],[0,9]])\n",
    "b=a[1]*2\n",
    "d={}\n",
    "d[0]=b\n",
    "print a,b,d"
   ]
  },
  {
   "cell_type": "code",
   "execution_count": null,
   "metadata": {
    "collapsed": true
   },
   "outputs": [],
   "source": []
  },
  {
   "cell_type": "code",
   "execution_count": 4,
   "metadata": {
    "collapsed": false
   },
   "outputs": [
    {
     "name": "stdout",
     "output_type": "stream",
     "text": [
      "[[9, 9, 9, 0, 0, 0] [0, 9]]\n",
      "([9, 9, 9, 0, 0, 0], [0])\n",
      "[9, 9, 9, 0, 0, 0] [9, 9, 9, 0, 0, 0]\n",
      "{0: [9, 9, 9, 0, 0, 0], 1: [9, 9, 9, 0, 0, 0], 2: [9, 9, 9, 0, 0, 0, 9], 3: [3, 4, 5]}\n",
      "[1, 1, 1, 1, 1]\n",
      "===\n",
      "[ 0.3  0.3  0.3]\n",
      "0.3\n",
      "0.2\n",
      "0.1\n",
      "{0: 0.29999999999999999, 1: 0.20000000000000001, 2: 0.10000000000000001}\n"
     ]
    }
   ],
   "source": [
    "a=np.array([[9,9,9,0,0,0],[0,9]])\n",
    "print a\n",
    "print ([9,9,9,0,0,0],[0])\n",
    "dic = {0:[9,9,9,0,0,0],\n",
    "      1:[9,9,9,0,0,0],\n",
    "      2:[9,9,9,0,0,0,9]\n",
    "      }\n",
    "print dic[1], dic.get(0)\n",
    "dic[3]=[3,4,5]\n",
    "print dic\n",
    "print [1]*5\n",
    "# listT = [(0,4),(1,5)]\n",
    "# print listT[0]\n",
    "print \"===\"\n",
    "print np.array([0.3]*3)\n",
    "# print np.array([0.3]*3)\n",
    "\n",
    "\n",
    "wFactor=np.array([0.3,0.2,0.1])\n",
    "dic={}\n",
    "# for i,k in enumerate(wFactor):\n",
    "#     dic[i]=k\n",
    "#     print k\n",
    "# print dic\n",
    "# dic = dict(enumerate(wFactor))\n",
    "# print dic"
   ]
  },
  {
   "cell_type": "code",
   "execution_count": null,
   "metadata": {
    "collapsed": true
   },
   "outputs": [],
   "source": []
  },
  {
   "cell_type": "code",
   "execution_count": 2,
   "metadata": {
    "collapsed": true
   },
   "outputs": [],
   "source": [
    "import numpy as np\n",
    "from sklearn.datasets.samples_generator import make_regression\n",
    "%matplotlib inline\n",
    "import matplotlib.pyplot as plt"
   ]
  },
  {
   "cell_type": "code",
   "execution_count": 91,
   "metadata": {
    "collapsed": false
   },
   "outputs": [
    {
     "data": {
      "image/png": "[encoded data removed]",
      "text/plain": [
       "<matplotlib.figure.Figure at 0x107e47910>"
      ]
     },
     "metadata": {},
     "output_type": "display_data"
    }
   ],
   "source": [
    "x, y = make_regression(n_samples=5, n_features=1, n_informative=1,random_state=0, noise=35)\n",
    "# plt.plot(X[:],y,'o')\n",
    "# plt.show()\n",
    "m = x.shape[0]\n",
    "alpha = 0.01\n",
    "theta = np.random.random(2)\n",
    "ones = np.ones(X.shape[0])\n",
    "X = np.c_[ones,x]\n",
    "J = []\n",
    "\n",
    "for i in range(100):\n",
    "    hypothesis = np.dot(X,theta)\n",
    "    diff = hypothesis - y\n",
    "    J.append(np.sum(diff**2)/(2*m))\n",
    "    gradients = np.dot(diff,X)/m\n",
    "#     print theta\n",
    "    theta = theta - alpha*gradients\n",
    "#     print theta\n",
    "\n",
    "plt.plot(J,'o')\n",
    "plt.show()"
   ]
  },
  {
   "cell_type": "code",
   "execution_count": 73,
   "metadata": {
    "collapsed": false
   },
   "outputs": [
    {
     "name": "stdout",
     "output_type": "stream",
     "text": [
      "[3]\n"
     ]
    }
   ],
   "source": []
  },
  {
   "cell_type": "code",
   "execution_count": 77,
   "metadata": {
    "collapsed": false
   },
   "outputs": [
    {
     "name": "stdout",
     "output_type": "stream",
     "text": [
      "[0, 1, 2]\n",
      "0\n",
      "1\n",
      "2\n"
     ]
    }
   ],
   "source": []
  },
  {
   "cell_type": "code",
   "execution_count": null,
   "metadata": {
    "collapsed": true
   },
   "outputs": [],
   "source": []
  }
 ],
 "metadata": {
  "kernelspec": {
   "display_name": "Python 2",
   "language": "python",
   "name": "python2"
  },
  "language_info": {
   "codemirror_mode": {
    "name": "ipython",
    "version": 2
   },
   "file_extension": ".py",
   "mimetype": "text/x-python",
   "name": "python",
   "nbconvert_exporter": "python",
   "pygments_lexer": "ipython2",
   "version": "2.7.11"
  }
 },
 "nbformat": 4,
 "nbformat_minor": 0
}
