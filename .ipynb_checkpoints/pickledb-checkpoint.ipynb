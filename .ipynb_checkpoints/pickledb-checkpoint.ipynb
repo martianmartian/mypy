{
 "cells": [
  {
   "cell_type": "code",
   "execution_count": null,
   "metadata": {
    "collapsed": true
   },
   "outputs": [],
   "source": []
  },
  {
   "cell_type": "code",
   "execution_count": null,
   "metadata": {
    "collapsed": false
   },
   "outputs": [],
   "source": [
    "dic={}\n",
    "# wFactor=[4.4,0.3,0.7]\n",
    "wFactor=np.array([4.4,0.3,0.7])\n",
    "x=np.array([5.4,0.3,0.7])\n",
    "for i,factor in enumerate(wFactor):\n",
    "    dic[i]=[factor]*x[i].round(0)\n",
    "print dic"
   ]
  },
  {
   "cell_type": "code",
   "execution_count": null,
   "metadata": {
    "collapsed": false
   },
   "outputs": [],
   "source": [
    "J=[1,2]\n",
    "\n",
    "print J[-1]"
   ]
  },
  {
   "cell_type": "code",
   "execution_count": null,
   "metadata": {
    "collapsed": true
   },
   "outputs": [],
   "source": []
  },
  {
   "cell_type": "code",
   "execution_count": null,
   "metadata": {
    "collapsed": false
   },
   "outputs": [],
   "source": [
    "# fun with dictionary\n",
    "print dict([('A', 1), ('B', 2), ('C', 3)])\n",
    "print {'A': 1, 'C': 3, 'B': 2}\n",
    "# tu = ('A', [1])\n",
    "# print tu, tu[1]\n",
    "# tu[1][0]=2\n",
    "# tu[1].append(2)\n",
    "# print tu\n",
    "# listlist = []\n",
    "# print listlist\n",
    "# listlist = [1]*3\n",
    "# print listlist\n",
    "a={(1,1):1.453, (1,2):2.967}\n",
    "print a[(1,1)], a[1,1]\n",
    "states = {\n",
    "    'Oregon': 'OR',\n",
    "    'Florida': 'FL',\n",
    "    'California': 'CA',\n",
    "    'New York': 'NY',\n",
    "    'Michigan': 'MI'\n",
    "}\n",
    "cities = {\n",
    "    'CA': 'San Francisco',\n",
    "    'MI': 'Detroit',\n",
    "    'FL': 'Jacksonville',\n",
    "    'NY': 'New York',\n",
    "    'OR': 'Portland'\n",
    "}\n",
    "for abb,city in cities.items():\n",
    "    print (abb,city)\n",
    "print \"===\"\n",
    "for key in cities:\n",
    "    print key"
   ]
  },
  {
   "cell_type": "code",
   "execution_count": null,
   "metadata": {
    "collapsed": false
   },
   "outputs": [],
   "source": []
  },
  {
   "cell_type": "code",
   "execution_count": null,
   "metadata": {
    "collapsed": false
   },
   "outputs": [],
   "source": []
  },
  {
   "cell_type": "code",
   "execution_count": null,
   "metadata": {
    "collapsed": false
   },
   "outputs": [],
   "source": [
    "# fun with dictionary\n",
    "dic = {'Name': 'Zara', 'Age': 27}\n",
    "print dic.get(\"Age\"),dic.get(\"sex\")\n",
    "print dic.get(\"sex\",\"default string\")\n",
    "print dic.has_key(\"sex\")\n",
    "dicCopy = dic.copy()\n",
    "print dicCopy,dic\n",
    "dicCopy[\"Job\"]=\"coder\"\n",
    "print dicCopy,dic\n",
    "print dic.items()\n",
    "print \"returns a list of dict's (key, value) tuple pairs\"\n",
    "doc = {\"where\":\"us\",\"state\":\"ca\"}\n",
    "dic.update(doc)\n",
    "print doc, dic\n",
    "dic.update(dicCopy)\n",
    "print dic\n",
    "print dic.setdefault(\"food\",\"human food\")\n",
    "print dic\n",
    "print dic.setdefault(\"Name\",\"what??\")"
   ]
  },
  {
   "cell_type": "code",
   "execution_count": null,
   "metadata": {
    "collapsed": false
   },
   "outputs": [],
   "source": [
    "# fun with dictionary\n",
    "tel = {'jack':3409,'sape':2343}\n",
    "tel[\"dell\"]=9202\n",
    "del tel[\"sape\"]\n",
    "print tel[\"jack\"], len(tel)\n",
    "# print tel[\"meow\"]\n",
    "tel.clear()\n",
    "print tel, \"nothing elft\"\n",
    "dic={}\n",
    "dic[\"soso\"]=\"34534\"\n",
    "print dic, tel.keys(),tel.values()\n",
    "print \"soso\" in dic\n",
    "print \"=====\"\n",
    "made = dict(savy=2098,guido=2423,jack=2039)\n",
    "print made\n",
    "made2 = dict([(\"sape\",2342)])\n",
    "print made2, type(made2)\n",
    "# wrong = dict(\"sape\",2342)\n",
    "made3 = ([\"sape\",2232])\n",
    "print made3, type(made3)\n",
    "# made4 = dict([\"sape\",2232])\n",
    "# print made4\n",
    "print str(made)\n",
    "print \"====\"\n",
    "seq = ('name', 'age', 'sex')\n",
    "dic = dict.fromkeys(seq)\n",
    "print dic\n",
    "dic2 = dict.fromkeys(seq,[2,3,4])\n",
    "print dic2"
   ]
  },
  {
   "cell_type": "code",
   "execution_count": null,
   "metadata": {
    "collapsed": false
   },
   "outputs": [],
   "source": []
  },
  {
   "cell_type": "code",
   "execution_count": null,
   "metadata": {
    "collapsed": false
   },
   "outputs": [],
   "source": []
  },
  {
   "cell_type": "code",
   "execution_count": null,
   "metadata": {
    "collapsed": false
   },
   "outputs": [],
   "source": []
  },
  {
   "cell_type": "code",
   "execution_count": null,
   "metadata": {
    "collapsed": false
   },
   "outputs": [],
   "source": []
  },
  {
   "cell_type": "code",
   "execution_count": null,
   "metadata": {
    "collapsed": true
   },
   "outputs": [],
   "source": []
  },
  {
   "cell_type": "code",
   "execution_count": null,
   "metadata": {
    "collapsed": false
   },
   "outputs": [],
   "source": [
    "print '=== pickledb'\n",
    "# db = pickledb.load('./data/pickle.db', False)\n",
    "# db.dump()\n",
    "\n",
    "array=np.array([[1,2,3],[2,3,4],[2,4,6]])\n",
    "print type(array)\n",
    "print type(array.tolist())\n",
    "print list(array)\n",
    "print type(list(array)[0])\n",
    "# somehow automatically convert between numpyArray and list when saving and extracting.\n",
    "# also, make sure even something goes wrong it won't break entire database!!!"
   ]
  },
  {
   "cell_type": "code",
   "execution_count": 3,
   "metadata": {
    "collapsed": false
   },
   "outputs": [],
   "source": [
    "import numpy as np\n",
    "%matplotlib inline\n",
    "import matplotlib.pyplot as plt\n",
    "# when you practice, go crazy. no, go nuts"
   ]
  },
  {
   "cell_type": "code",
   "execution_count": 36,
   "metadata": {
    "collapsed": false,
    "scrolled": true
   },
   "outputs": [
    {
     "data": {
      "image/png": "[encoded data removed]",
      "text/plain": [
       "<matplotlib.figure.Figure at 0x106379b50>"
      ]
     },
     "metadata": {},
     "output_type": "display_data"
    }
   ],
   "source": [
    "from numpy import linspace,meshgrid,exp\n",
    "x = linspace(-50,50,131)\n",
    "y = linspace(-50,50,101)\n",
    "(X,Y) = meshgrid(x,y)\n",
    "a = X**3*0.02+X**2+Y**2+(X*Y)\n",
    "\n",
    "c = plt.contour(x,y,a,linspace(-1,100,11))\n",
    "plt.clabel(c)\n",
    "plt.grid()\n",
    "plt.show()"
   ]
  },
  {
   "cell_type": "code",
   "execution_count": null,
   "metadata": {
    "collapsed": false
   },
   "outputs": [],
   "source": [
    "import timeit\n",
    "import numpy as np"
   ]
  },
  {
   "cell_type": "code",
   "execution_count": 22,
   "metadata": {
    "collapsed": false
   },
   "outputs": [
    {
     "name": "stdout",
     "output_type": "stream",
     "text": [
      "0.000105857849121\n"
     ]
    }
   ],
   "source": [
    "a = np.random.random((10000,10000))\n",
    "start = timeit.default_timer()\n",
    "a.T\n",
    "stop = timeit.default_timer()\n",
    "print stop - start "
   ]
  },
  {
   "cell_type": "code",
   "execution_count": null,
   "metadata": {
    "collapsed": true
   },
   "outputs": [],
   "source": []
  },
  {
   "cell_type": "code",
   "execution_count": null,
   "metadata": {
    "collapsed": true
   },
   "outputs": [],
   "source": []
  },
  {
   "cell_type": "code",
   "execution_count": null,
   "metadata": {
    "collapsed": true
   },
   "outputs": [],
   "source": []
  },
  {
   "cell_type": "code",
   "execution_count": null,
   "metadata": {
    "collapsed": true
   },
   "outputs": [],
   "source": []
  },
  {
   "cell_type": "code",
   "execution_count": null,
   "metadata": {
    "collapsed": true
   },
   "outputs": [],
   "source": []
  },
  {
   "cell_type": "code",
   "execution_count": null,
   "metadata": {
    "collapsed": true
   },
   "outputs": [],
   "source": []
  },
  {
   "cell_type": "code",
   "execution_count": null,
   "metadata": {
    "collapsed": true
   },
   "outputs": [],
   "source": []
  },
  {
   "cell_type": "code",
   "execution_count": null,
   "metadata": {
    "collapsed": false
   },
   "outputs": [],
   "source": []
  },
  {
   "cell_type": "code",
   "execution_count": null,
   "metadata": {
    "collapsed": true
   },
   "outputs": [],
   "source": []
  },
  {
   "cell_type": "code",
   "execution_count": null,
   "metadata": {
    "collapsed": false
   },
   "outputs": [],
   "source": []
  },
  {
   "cell_type": "code",
   "execution_count": null,
   "metadata": {
    "collapsed": false
   },
   "outputs": [],
   "source": []
  },
  {
   "cell_type": "code",
   "execution_count": 13,
   "metadata": {
    "collapsed": false
   },
   "outputs": [
    {
     "name": "stdout",
     "output_type": "stream",
     "text": [
      "0\n"
     ]
    }
   ],
   "source": [
    "def AND(x1,x2):\n",
    "    return x1^x2\n",
    "print AND(0,0)"
   ]
  },
  {
   "cell_type": "code",
   "execution_count": null,
   "metadata": {
    "collapsed": true
   },
   "outputs": [],
   "source": []
  },
  {
   "cell_type": "code",
   "execution_count": null,
   "metadata": {
    "collapsed": true
   },
   "outputs": [],
   "source": []
  },
  {
   "cell_type": "code",
   "execution_count": null,
   "metadata": {
    "collapsed": true
   },
   "outputs": [],
   "source": []
  }
 ],
 "metadata": {
  "kernelspec": {
   "display_name": "Python 2",
   "language": "python",
   "name": "python2"
  },
  "language_info": {
   "codemirror_mode": {
    "name": "ipython",
    "version": 2
   },
   "file_extension": ".py",
   "mimetype": "text/x-python",
   "name": "python",
   "nbconvert_exporter": "python",
   "pygments_lexer": "ipython2",
   "version": "2.7.11"
  }
 },
 "nbformat": 4,
 "nbformat_minor": 0
}
