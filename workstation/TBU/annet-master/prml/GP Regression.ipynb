{
 "metadata": {
  "name": "",
  "signature": "sha256:ffda7143acce561b2931bd15ab8f1712d47837a7c8ff5705a5aa523713a9a038"
 },
 "nbformat": 3,
 "nbformat_minor": 0,
 "worksheets": [
  {
   "cells": [
    {
     "cell_type": "code",
     "collapsed": false,
     "input": [
      "import numpy as np\n",
      "import matplotlib.pyplot as plt\n",
      "import sklearn\n",
      "from sklearn import linear_model\n",
      "%matplotlib inline"
     ],
     "language": "python",
     "metadata": {},
     "outputs": [],
     "prompt_number": 3
    },
    {
     "cell_type": "heading",
     "level": 2,
     "metadata": {},
     "source": [
      "Data"
     ]
    },
    {
     "cell_type": "code",
     "collapsed": false,
     "input": [
      "x = np.array([-1.5,-.9,-.75,-.6,-.25,0])\n",
      "y = np.array([-1.8,-1.2,-.3,.2,.5,.6])"
     ],
     "language": "python",
     "metadata": {},
     "outputs": [],
     "prompt_number": 118
    },
    {
     "cell_type": "code",
     "collapsed": false,
     "input": [
      "plt.scatter(x,y)"
     ],
     "language": "python",
     "metadata": {},
     "outputs": [
      {
       "metadata": {},
       "output_type": "pyout",
       "prompt_number": 119,
       "text": [
        "<matplotlib.collections.PathCollection at 0x10a970990>"
       ]
      },
      {
       "metadata": {},
       "output_type": "display_data",
       "png": "[encoded data removed]",
       "text": [
        "<matplotlib.figure.Figure at 0x108ac83d0>"
       ]
      }
     ],
     "prompt_number": 119
    },
    {
     "cell_type": "heading",
     "level": 2,
     "metadata": {},
     "source": [
      "Linear Model"
     ]
    },
    {
     "cell_type": "code",
     "collapsed": false,
     "input": [
      "x_train = [[x[i]] for i in range(len(x))]\n",
      "y_train = [[y[i]] for i in range(len(y))]\n",
      "clf = linear_model.LinearRegression()\n",
      "clf.fit(x_train,y_train)\n",
      "plt.scatter(x_train, y_train,  color='black')\n",
      "plt.plot(x_train, clf.predict(x_train), color='blue',linewidth=3)"
     ],
     "language": "python",
     "metadata": {},
     "outputs": [
      {
       "metadata": {},
       "output_type": "pyout",
       "prompt_number": 120,
       "text": [
        "[<matplotlib.lines.Line2D at 0x10a76e350>]"
       ]
      },
      {
       "metadata": {},
       "output_type": "display_data",
       "png": "[encoded data removed]",
       "text": [
        "<matplotlib.figure.Figure at 0x10a76e250>"
       ]
      }
     ],
     "prompt_number": 120
    },
    {
     "cell_type": "heading",
     "level": 2,
     "metadata": {},
     "source": [
      "Gaussian Regression, with optimizing parameters"
     ]
    },
    {
     "cell_type": "markdown",
     "metadata": {},
     "source": [
      "Parameters here are $l = \\exp(\\theta_1),\\sigma = \\exp(2\\theta_2)$. So\n",
      "$$K(x,x') = \\sigma \\exp\\left(\\frac{-(x-x')^T(x-x')}{l}\\right)$$\n",
      "Our objective function is:\n",
      "$$\\log P(y|x,\\theta) = -\\frac{1}{2}\\log|K|-\\frac{1}{2}y^TK^{-1}y-\\frac{N}{2}\\log(2\\pi)$$\n",
      "By the chain rule, the derivative is\n",
      "$$\\frac{\\partial}{\\partial \\theta_i} \\log P(y|x,\\theta) = -\\frac{1}{2}Tr\\left(K^{-1}\\frac{\\partial K}{\\partial \\theta_i}\\right) + \n",
      "\\frac{1}{2}y^TK^{-1}\\frac{\\partial K}{\\partial \\theta_i}K^{-1}y$$\n",
      "The partials are given by \n",
      "$$\\frac{\\partial K}{\\partial \\theta_1} = \\sigma \\exp\\left(\\frac{-(x-x')^2}{l}\\right)\\frac{(x-x')^2}{l^2}l$$\n",
      "$$\\frac{\\partial K}{\\partial \\theta_2} = 2\\sigma \\exp\\left(\\frac{-(x-x')^2}{l}\\right)$$"
     ]
    },
    {
     "cell_type": "code",
     "collapsed": false,
     "input": [
      "x = np.array([-1.5,-1.2,-.9,-.75,-.6,-.25,0])\n",
      "y = np.array([-1.8,-1.7,-1.2,-.3,.2,.5,.6])\n",
      "sigma_n = np.var(y)\n",
      "n = len(x)"
     ],
     "language": "python",
     "metadata": {},
     "outputs": [],
     "prompt_number": 52
    },
    {
     "cell_type": "code",
     "collapsed": false,
     "input": [
      "#x = np.arange(-5,5,.5)\n",
      "#y = x+np.random.normal(0,.2,len(x))\n",
      "#sigma_n = np.var(y)\n",
      "#n = len(x)"
     ],
     "language": "python",
     "metadata": {},
     "outputs": [],
     "prompt_number": 53
    },
    {
     "cell_type": "code",
     "collapsed": false,
     "input": [
      "plt.scatter(x,y)"
     ],
     "language": "python",
     "metadata": {},
     "outputs": [
      {
       "metadata": {},
       "output_type": "pyout",
       "prompt_number": 54,
       "text": [
        "<matplotlib.collections.PathCollection at 0x10a6a5090>"
       ]
      },
      {
       "metadata": {},
       "output_type": "display_data",
       "png": "[encoded data removed]",
       "text": [
        "<matplotlib.figure.Figure at 0x10a44d0d0>"
       ]
      }
     ],
     "prompt_number": 54
    },
    {
     "cell_type": "markdown",
     "metadata": {},
     "source": [
      "Recall, the partials are given by \n",
      "$$\\frac{\\partial K}{\\partial \\theta_1} = \\sigma \\exp\\left(\\frac{-(x-x')^2}{l}\\right)\\frac{(x-x')^2}{l^2}l$$\n",
      "$$\\frac{\\partial K}{\\partial \\theta_2} = 2\\sigma \\exp\\left(\\frac{-(x-x')^2}{l}\\right)$$"
     ]
    },
    {
     "cell_type": "code",
     "collapsed": false,
     "input": [
      "def dK_dtheta1(theta1,theta2):\n",
      "    l = np.exp(theta1)\n",
      "    sig = np.exp(2*theta2)\n",
      "    K = np.zeros((n,n))\n",
      "    for i in xrange(n):\n",
      "        for j in xrange(n):\n",
      "            K[i,j] = sig*np.exp((-1.0*(x[i]-x[j])**2)/l)*((1.0*(x[i]-x[j])**2)/l)\n",
      "    return K"
     ],
     "language": "python",
     "metadata": {},
     "outputs": [],
     "prompt_number": 55
    },
    {
     "cell_type": "code",
     "collapsed": false,
     "input": [
      "def dK_dtheta2(theta1,theta2):\n",
      "    l = np.exp(theta1)\n",
      "    sig = np.exp(2*theta2)\n",
      "    K = np.zeros((n,n))\n",
      "    for i in xrange(n):\n",
      "        for j in xrange(n):\n",
      "            K[i,j] = 2*sig*np.exp((-1.0*(x[i]-x[j])**2)/l)\n",
      "    return K"
     ],
     "language": "python",
     "metadata": {},
     "outputs": [],
     "prompt_number": 56
    },
    {
     "cell_type": "code",
     "collapsed": false,
     "input": [
      "def kernel(i,j,theta1,theta2):\n",
      "    l = np.exp(theta1)\n",
      "    sig = np.exp(2*theta2)\n",
      "    return sig*np.exp((-1.0*(i-j)**2)/l)+sigma_n*int(i == j)"
     ],
     "language": "python",
     "metadata": {},
     "outputs": [],
     "prompt_number": 57
    },
    {
     "cell_type": "code",
     "collapsed": false,
     "input": [
      "def create_K(theta1,theta2):\n",
      "    K = np.zeros((n,n))\n",
      "    for i in xrange(n):\n",
      "        for j in xrange(n):\n",
      "            K[i,j] = kernel(x[i],x[j],theta1,theta2)\n",
      "    return K"
     ],
     "language": "python",
     "metadata": {},
     "outputs": [],
     "prompt_number": 58
    },
    {
     "cell_type": "markdown",
     "metadata": {},
     "source": [
      "Recall, the derivative is given by $$\\frac{\\partial}{\\partial \\theta_i} \\log P(y|x,\\theta) = -\\frac{1}{2}Tr\\left(K^{-1}\\frac{\\partial K}{\\partial \\theta_i}\\right) + \n",
      "\\frac{1}{2}y^TK^{-1}\\frac{\\partial K}{\\partial \\theta_i}K^{-1}y$$"
     ]
    },
    {
     "cell_type": "code",
     "collapsed": false,
     "input": [
      "def grad(theta1,theta2):\n",
      "    w = np.zeros(2)\n",
      "    K = create_K(theta1,theta2)\n",
      "    K_inv = np.linalg.inv(K)\n",
      "    dKdt1 = dK_dtheta1(theta1,theta2)\n",
      "    dKdt2 = dK_dtheta2(theta1,theta2)\n",
      "    # We don't compute the product before taking the trick -- using np.einsum saves times\n",
      "    w[0] = -.5*(np.einsum('ij,ji->', K_inv, dKdt1)-np.dot(np.dot(np.dot(np.dot(y.T,K_inv),dKdt1),K_inv),y)) \n",
      "    w[1] = -.5*(np.einsum('ij,ji->', K_inv, dKdt2)-np.dot(np.dot(np.dot(np.dot(y.T,K_inv),dKdt2),K_inv),y))\n",
      "    return w"
     ],
     "language": "python",
     "metadata": {},
     "outputs": [],
     "prompt_number": 59
    },
    {
     "cell_type": "code",
     "collapsed": false,
     "input": [
      "def train(epoch= 1000,stepsize = .01):\n",
      "    w = np.random.rand(2)\n",
      "    for i in range(epoch):\n",
      "        w = w +stepsize*grad(w[0],w[1])\n",
      "    return(w)"
     ],
     "language": "python",
     "metadata": {},
     "outputs": [],
     "prompt_number": 60
    },
    {
     "cell_type": "code",
     "collapsed": false,
     "input": [
      "#w0,w1 = train()\n",
      "#loglik(w0,w1)\n"
     ],
     "language": "python",
     "metadata": {},
     "outputs": [],
     "prompt_number": 61
    },
    {
     "cell_type": "markdown",
     "metadata": {},
     "source": [
      "Recall, the objective function is given by $$\\log P(y|x,\\theta) = -\\frac{1}{2}\\log|K|-\\frac{1}{2}y^TK^{-1}y-\\frac{N}{2}\\log(2\\pi)$$"
     ]
    },
    {
     "cell_type": "code",
     "collapsed": false,
     "input": [
      "def loglik(theta1,theta2):\n",
      "    K = create_K(theta1,theta2)\n",
      "    K_inv = np.linalg.inv(K)\n",
      "    return -.5*np.log(np.linalg.det(K))-.5*np.dot(np.dot(y.T,K_inv),y)"
     ],
     "language": "python",
     "metadata": {},
     "outputs": [],
     "prompt_number": 62
    },
    {
     "cell_type": "code",
     "collapsed": false,
     "input": [
      "def create_K_star(x_new,theta1,theta2):\n",
      "    K_star = np.zeros((1,n))\n",
      "    for i in xrange(n):\n",
      "        K_star[0,i] = kernel(x_new,x[i],theta1,theta2)\n",
      "    return K_star"
     ],
     "language": "python",
     "metadata": {},
     "outputs": [],
     "prompt_number": 63
    },
    {
     "cell_type": "code",
     "collapsed": false,
     "input": [
      "def predict_and_error(x_new,theta1,theta2,K_inv):\n",
      "    K_star = create_K_star(x_new,theta1,theta2)\n",
      "    K_star_star = kernel(x_new,x_new,theta1,theta2)\n",
      "    ybar_star = np.dot(np.dot(K_star,K_inv),y)\n",
      "    var_y_star = K_star_star - np.dot(np.dot(K_star,K_inv),K_star.T)\n",
      "    return(ybar_star[0],var_y_star[0][0])"
     ],
     "language": "python",
     "metadata": {},
     "outputs": [],
     "prompt_number": 64
    },
    {
     "cell_type": "code",
     "collapsed": false,
     "input": [
      "def plot_preds(theta1,theta2,xmin = np.min(x)-1,xmax = np.max(x)+1,by = .1):\n",
      "    K = create_K(theta1,theta2)\n",
      "    K_inv = np.linalg.inv(K)\n",
      "    p_x = np.arange(xmin,xmax,by)\n",
      "    p_y = np.array([predict_and_error(x_new,theta1,theta2,K_inv)[0] for x_new in p_x])\n",
      "    errs = np.array([predict_and_error(x_new,theta1,theta2,K_inv)[1] for x_new in p_x])\n",
      "    lower = p_y - 1.96*np.sqrt(errs)\n",
      "    upper = p_y + 1.96*np.sqrt(errs)\n",
      "    plt.plot(x,y,'bo',label='Sample observations')\n",
      "    plt.plot(p_x,p_y,'r-',label='Regression line')\n",
      "    plt.plot(p_x,lower,'b--',label='Lower confidence limit (95%)')\n",
      "    plt.plot(p_x,upper,'b--',label='Upper confidence limit (95%)')"
     ],
     "language": "python",
     "metadata": {},
     "outputs": [],
     "prompt_number": 74
    },
    {
     "cell_type": "code",
     "collapsed": false,
     "input": [
      "theta1,theta2 = train()\n",
      "plot_preds(theta1,theta2)\n",
      "print theta1,theta2"
     ],
     "language": "python",
     "metadata": {},
     "outputs": [
      {
       "output_type": "stream",
       "stream": "stdout",
       "text": [
        "-0.151666799677 -0.00590034249841\n"
       ]
      },
      {
       "metadata": {},
       "output_type": "display_data",
       "png": "[encoded data removed]",
       "text": [
        "<matplotlib.figure.Figure at 0x10ad852d0>"
       ]
      }
     ],
     "prompt_number": 75
    },
    {
     "cell_type": "heading",
     "level": 2,
     "metadata": {},
     "source": [
      "Helper Functions for checking"
     ]
    },
    {
     "cell_type": "code",
     "collapsed": false,
     "input": [
      "def gridsearch():\n",
      "    maxi = 0\n",
      "    maxj = 0\n",
      "    maxlik = -1000\n",
      "    for i in np.arange(-.5,.5,.01):\n",
      "        for j in np.arange(-.5,.5,.01):\n",
      "            if loglik(i,j) > maxlik:\n",
      "                maxi = i\n",
      "                maxj = j\n",
      "                maxlik = loglik(i,j)\n",
      "    theta1 = maxi\n",
      "    theta2 = maxj\n",
      "    return np.array([theta1,theta2])"
     ],
     "language": "python",
     "metadata": {},
     "outputs": [],
     "prompt_number": 218
    },
    {
     "cell_type": "code",
     "collapsed": false,
     "input": [
      "def finitedifference(theta1,theta2,eps):\n",
      "    w = np.zeros(2)\n",
      "    w[0] = (loglik(theta1+eps,theta2)-loglik(theta1-eps,theta2))/(2*eps) \n",
      "    w[1] = (loglik(theta1,theta2+eps)-loglik(theta1,theta2-eps))/(2*eps)\n",
      "    return w"
     ],
     "language": "python",
     "metadata": {},
     "outputs": [],
     "prompt_number": 219
    },
    {
     "cell_type": "code",
     "collapsed": false,
     "input": [],
     "language": "python",
     "metadata": {},
     "outputs": []
    }
   ],
   "metadata": {}
  }
 ]
}