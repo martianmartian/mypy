{
 "metadata": {
  "name": "",
  "signature": "sha256:98352a77435c4007ff9753edf672b65c2041fe743af645e74f9d47a4b5e28e79"
 },
 "nbformat": 3,
 "nbformat_minor": 0,
 "worksheets": [
  {
   "cells": [
    {
     "cell_type": "markdown",
     "metadata": {},
     "source": [
      "# Softmax exercise\n",
      "\n",
      "*Complete and hand in this completed worksheet (including its outputs and any supporting code outside of the worksheet) with your assignment submission. For more details see the [assignments page](http://vision.stanford.edu/teaching/cs231n/assignments.html) on the course website.*\n",
      "\n",
      "This exercise is analogous to the SVM exercise. You will:\n",
      "\n",
      "- implement a fully-vectorized **loss function** for the Softmax classifier\n",
      "- implement the fully-vectorized expression for its **analytic gradient**\n",
      "- **check your implementation** with numerical gradient\n",
      "- use a validation set to **tune the learning rate and regularization** strength\n",
      "- **optimize** the loss function with **SGD**\n",
      "- **visualize** the final learned weights\n"
     ]
    },
    {
     "cell_type": "code",
     "collapsed": false,
     "input": [
      "import random\n",
      "import numpy as np\n",
      "from cs231n.data_utils import load_CIFAR10\n",
      "import matplotlib.pyplot as plt\n",
      "%matplotlib inline\n",
      "plt.rcParams['figure.figsize'] = (10.0, 8.0) # set default size of plots\n",
      "plt.rcParams['image.interpolation'] = 'nearest'\n",
      "plt.rcParams['image.cmap'] = 'gray'\n",
      "\n",
      "# for auto-reloading extenrnal modules\n",
      "# see http://stackoverflow.com/questions/1907993/autoreload-of-modules-in-ipython\n",
      "%load_ext autoreload\n",
      "%autoreload 2"
     ],
     "language": "python",
     "metadata": {},
     "outputs": [],
     "prompt_number": 1
    },
    {
     "cell_type": "code",
     "collapsed": false,
     "input": [
      "def get_CIFAR10_data(num_training=49000, num_validation=1000, num_test=1000):\n",
      "  \"\"\"\n",
      "  Load the CIFAR-10 dataset from disk and perform preprocessing to prepare\n",
      "  it for the linear classifier. These are the same steps as we used for the\n",
      "  SVM, but condensed to a single function.  \n",
      "  \"\"\"\n",
      "  # Load the raw CIFAR-10 data\n",
      "  cifar10_dir = 'cs231n/datasets/cifar-10-batches-py'\n",
      "  X_train, y_train, X_test, y_test = load_CIFAR10(cifar10_dir)\n",
      "  \n",
      "  # subsample the data\n",
      "  mask = range(num_training, num_training + num_validation)\n",
      "  X_val = X_train[mask]\n",
      "  y_val = y_train[mask]\n",
      "  mask = range(num_training)\n",
      "  X_train = X_train[mask]\n",
      "  y_train = y_train[mask]\n",
      "  mask = range(num_test)\n",
      "  X_test = X_test[mask]\n",
      "  y_test = y_test[mask]\n",
      "  \n",
      "  # Preprocessing: reshape the image data into rows\n",
      "  X_train = np.reshape(X_train, (X_train.shape[0], -1))\n",
      "  X_val = np.reshape(X_val, (X_val.shape[0], -1))\n",
      "  X_test = np.reshape(X_test, (X_test.shape[0], -1))\n",
      "  \n",
      "  # Normalize the data: subtract the mean image\n",
      "  mean_image = np.mean(X_train, axis = 0)\n",
      "  X_train -= mean_image\n",
      "  X_val -= mean_image\n",
      "  X_test -= mean_image\n",
      "  \n",
      "  # add bias dimension and transform into columns\n",
      "  X_train = np.hstack([X_train, np.ones((X_train.shape[0], 1))]).T\n",
      "  X_val = np.hstack([X_val, np.ones((X_val.shape[0], 1))]).T\n",
      "  X_test = np.hstack([X_test, np.ones((X_test.shape[0], 1))]).T\n",
      "  \n",
      "  return X_train, y_train, X_val, y_val, X_test, y_test\n",
      "\n",
      "\n",
      "# Invoke the above function to get our data.\n",
      "X_train, y_train, X_val, y_val, X_test, y_test = get_CIFAR10_data()\n",
      "print 'Train data shape: ', X_train.shape\n",
      "print 'Train labels shape: ', y_train.shape\n",
      "print 'Validation data shape: ', X_val.shape\n",
      "print 'Validation labels shape: ', y_val.shape\n",
      "print 'Test data shape: ', X_test.shape\n",
      "print 'Test labels shape: ', y_test.shape"
     ],
     "language": "python",
     "metadata": {},
     "outputs": [
      {
       "output_type": "stream",
       "stream": "stdout",
       "text": [
        "Train data shape:  (3073, 49000)\n",
        "Train labels shape:  (49000,)\n",
        "Validation data shape:  (3073, 1000)\n",
        "Validation labels shape:  (1000,)\n",
        "Test data shape:  (3073, 1000)\n",
        "Test labels shape:  (1000,)\n"
       ]
      }
     ],
     "prompt_number": 2
    },
    {
     "cell_type": "markdown",
     "metadata": {},
     "source": [
      "## Softmax Classifier\n",
      "\n",
      "Your code for this section will all be written inside **cs231n/classifiers/softmax.py**. \n"
     ]
    },
    {
     "cell_type": "code",
     "collapsed": false,
     "input": [
      "# First implement the naive softmax loss function with nested loops.\n",
      "# Open the file cs231n/classifiers/softmax.py and implement the\n",
      "# softmax_loss_naive function.\n",
      "\n",
      "from cs231n.classifiers.softmax import softmax_loss_naive\n",
      "import time\n",
      "\n",
      "# Generate a random softmax weight matrix and use it to compute the loss.\n",
      "W = np.random.randn(10, 3073) * 0.0001\n",
      "loss, grad = softmax_loss_naive(W, X_train, y_train, 0.0)\n",
      "\n",
      "# As a rough sanity check, our loss should be something close to -log(0.1).\n",
      "print 'loss: %f' % loss\n",
      "print 'sanity check: %f' % (-np.log(0.1))"
     ],
     "language": "python",
     "metadata": {},
     "outputs": [
      {
       "output_type": "stream",
       "stream": "stdout",
       "text": [
        "loss: 2.326010\n",
        "sanity check: 2.302585\n"
       ]
      }
     ],
     "prompt_number": 3
    },
    {
     "cell_type": "markdown",
     "metadata": {},
     "source": [
      "## Inline Question 1:\n",
      "Why do we expect our loss to be close to -log(0.1)? Explain briefly.**\n",
      "\n",
      "**Your answer:** We have 10 classes. By the probabilistic cross-entropy loss interpretation of Softmax, we expect the average probability of each class to be ~0.1 (they are all a priori just as likely). We're using the -log of this as our loss.\n"
     ]
    },
    {
     "cell_type": "code",
     "collapsed": false,
     "input": [
      "# Complete the implementation of softmax_loss_naive and implement a (naive)\n",
      "# version of the gradient that uses nested loops.\n",
      "loss, grad = softmax_loss_naive(W, X_train, y_train, 0.0)\n",
      "\n",
      "# As we did for the SVM, use numeric gradient checking as a debugging tool.\n",
      "# The numeric gradient should be close to the analytic gradient.\n",
      "from cs231n.gradient_check import grad_check_sparse\n",
      "f = lambda w: softmax_loss_naive(w, X_train, y_train, 0.0)[0]\n",
      "grad_numerical = grad_check_sparse(f, W, grad, 10)"
     ],
     "language": "python",
     "metadata": {},
     "outputs": [
      {
       "output_type": "stream",
       "stream": "stdout",
       "text": [
        "numerical: 2.277232 analytic: 2.277232, relative error: 1.402498e-08\n",
        "numerical: -2.255556 analytic: -2.255556, relative error: 9.135667e-10"
       ]
      },
      {
       "output_type": "stream",
       "stream": "stdout",
       "text": [
        "\n",
        "numerical: 0.804586 analytic: 0.804586, relative error: 9.264338e-08"
       ]
      },
      {
       "output_type": "stream",
       "stream": "stdout",
       "text": [
        "\n",
        "numerical: -0.545294 analytic: -0.545294, relative error: 4.645225e-08"
       ]
      },
      {
       "output_type": "stream",
       "stream": "stdout",
       "text": [
        "\n",
        "numerical: -0.300083 analytic: -0.300083, relative error: 8.303649e-08"
       ]
      },
      {
       "output_type": "stream",
       "stream": "stdout",
       "text": [
        "\n",
        "numerical: 0.868097 analytic: 0.868097, relative error: 9.635123e-09"
       ]
      },
      {
       "output_type": "stream",
       "stream": "stdout",
       "text": [
        "\n",
        "numerical: -0.748742 analytic: -0.748742, relative error: 2.846529e-08"
       ]
      },
      {
       "output_type": "stream",
       "stream": "stdout",
       "text": [
        "\n",
        "numerical: -0.489089 analytic: -0.489089, relative error: 1.674468e-09"
       ]
      },
      {
       "output_type": "stream",
       "stream": "stdout",
       "text": [
        "\n",
        "numerical: -0.754321 analytic: -0.754321, relative error: 2.906739e-08"
       ]
      },
      {
       "output_type": "stream",
       "stream": "stdout",
       "text": [
        "\n",
        "numerical: -0.039133 analytic: -0.039133, relative error: 9.652433e-07"
       ]
      },
      {
       "output_type": "stream",
       "stream": "stdout",
       "text": [
        "\n"
       ]
      }
     ],
     "prompt_number": 4
    },
    {
     "cell_type": "code",
     "collapsed": false,
     "input": [
      "# Now that we have a naive implementation of the softmax loss function and its gradient,\n",
      "# implement a vectorized version in softmax_loss_vectorized.\n",
      "# The two versions should compute the same results, but the vectorized version should be\n",
      "# much faster.\n",
      "tic = time.time()\n",
      "loss_naive, grad_naive = softmax_loss_naive(W, X_train, y_train, 0.00001)\n",
      "toc = time.time()\n",
      "print 'naive loss: %e computed in %fs' % (loss_naive, toc - tic)\n",
      "\n",
      "from cs231n.classifiers.softmax import softmax_loss_vectorized\n",
      "tic = time.time()\n",
      "loss_vectorized, grad_vectorized = softmax_loss_vectorized(W, X_train, y_train, 0.00001)\n",
      "toc = time.time()\n",
      "print 'vectorized loss: %e computed in %fs' % (loss_vectorized, toc - tic)\n",
      "\n",
      "# As we did for the SVM, we use the Frobenius norm to compare the two versions\n",
      "# of the gradient.\n",
      "grad_difference = np.linalg.norm(grad_naive - grad_vectorized, ord='fro')\n",
      "print 'Loss difference: %f' % np.abs(loss_naive - loss_vectorized)\n",
      "print 'Gradient difference: %f' % grad_difference"
     ],
     "language": "python",
     "metadata": {},
     "outputs": [
      {
       "output_type": "stream",
       "stream": "stdout",
       "text": [
        "naive loss: 2.326010e+00 computed in 10.461693s\n",
        "vectorized loss: 1.313062e+01 computed in 0.300150s"
       ]
      },
      {
       "output_type": "stream",
       "stream": "stdout",
       "text": [
        "\n",
        "Loss difference: 10.804607\n",
        "Gradient difference: 0.000000\n"
       ]
      }
     ],
     "prompt_number": 5
    },
    {
     "cell_type": "code",
     "collapsed": false,
     "input": [
      "# Use the validation set to tune hyperparameters (regularization strength and\n",
      "# learning rate). You should experiment with different ranges for the learning\n",
      "# rates and regularization strengths; if you are careful you should be able to\n",
      "# get a classification accuracy of over 0.35 on the validation set.\n",
      "from cs231n.classifiers import Softmax\n",
      "results = {}\n",
      "best_val = -1\n",
      "best_softmax = None\n",
      "learning_rates = np.logspace(-10, 10, 10) # np.logspace(-10, 10, 8) #-10, -9, -8, -7, -6, -5, -4\n",
      "regularization_strengths = np.logspace(-3, 6, 10) # causes numeric issues: np.logspace(-5, 5, 8) #[-4, -3, -2, -1, 1, 2, 3, 4, 5, 6]\n",
      "\n",
      "################################################################################\n",
      "# Use the validation set to set the learning rate and regularization strength. #\n",
      "# This should be identical to the validation that you did for the SVM; save    #\n",
      "# the best trained softmax classifer in best_softmax.                          #\n",
      "################################################################################\n",
      "iters = 2000 #100\n",
      "for lr in learning_rates:\n",
      "    for rs in regularization_strengths:\n",
      "        softmax = Softmax()\n",
      "        softmax.train(X_train, y_train, learning_rate=lr, reg=rs, num_iters=iters)\n",
      "        \n",
      "        y_train_pred = softmax.predict(X_train)\n",
      "        acc_train = np.mean(y_train == y_train_pred)\n",
      "        y_val_pred = softmax.predict(X_val)\n",
      "        acc_val = np.mean(y_val == y_val_pred)\n",
      "        \n",
      "        results[(lr, rs)] = (acc_train, acc_val)\n",
      "        \n",
      "        if best_val < acc_val:\n",
      "            best_val = acc_val\n",
      "            best_softmax = softmax\n",
      "    \n",
      "# Print out results.\n",
      "for lr, reg in sorted(results):\n",
      "    train_accuracy, val_accuracy = results[(lr, reg)]\n",
      "    print 'lr %e reg %e train accuracy: %f val accuracy: %f' % (\n",
      "                lr, reg, train_accuracy, val_accuracy)\n",
      "    \n",
      "print 'best validation accuracy achieved during cross-validation: %f' % best_val"
     ],
     "language": "python",
     "metadata": {},
     "outputs": [
      {
       "output_type": "stream",
       "stream": "stdout",
       "text": [
        "lr 1.000000e-10 reg 1.000000e-03 train accuracy: 0.117408 val accuracy: 0.116000\n",
        "lr 1.000000e-10 reg 1.000000e-02 train accuracy: 0.068204 val accuracy: 0.069000\n",
        "lr 1.000000e-10 reg 1.000000e-01 train accuracy: 0.129490 val accuracy: 0.138000\n",
        "lr 1.000000e-10 reg 1.000000e+00 train accuracy: 0.100714 val accuracy: 0.108000\n",
        "lr 1.000000e-10 reg 1.000000e+01 train accuracy: 0.073959 val accuracy: 0.075000\n",
        "lr 1.000000e-10 reg 1.000000e+02 train accuracy: 0.099204 val accuracy: 0.115000\n",
        "lr 1.000000e-10 reg 1.000000e+03 train accuracy: 0.123265 val accuracy: 0.135000\n",
        "lr 1.000000e-10 reg 1.000000e+04 train accuracy: 0.094735 val accuracy: 0.107000\n",
        "lr 1.000000e-10 reg 1.000000e+05 train accuracy: 0.091612 val accuracy: 0.090000\n",
        "lr 1.000000e-10 reg 1.000000e+06 train accuracy: 0.083327 val accuracy: 0.080000\n",
        "lr 1.668101e-08 reg 1.000000e-03 train accuracy: 0.185653 val accuracy: 0.217000\n",
        "lr 1.668101e-08 reg 1.000000e-02 train accuracy: 0.191673 val accuracy: 0.194000\n",
        "lr 1.668101e-08 reg 1.000000e-01 train accuracy: 0.200306 val accuracy: 0.225000\n",
        "lr 1.668101e-08 reg 1.000000e+00 train accuracy: 0.176510 val accuracy: 0.179000\n",
        "lr 1.668101e-08 reg 1.000000e+01 train accuracy: 0.174143 val accuracy: 0.180000\n",
        "lr 1.668101e-08 reg 1.000000e+02 train accuracy: 0.182143 val accuracy: 0.178000\n",
        "lr 1.668101e-08 reg 1.000000e+03 train accuracy: 0.183714 val accuracy: 0.181000\n",
        "lr 1.668101e-08 reg 1.000000e+04 train accuracy: 0.198776 val accuracy: 0.212000\n",
        "lr 1.668101e-08 reg 1.000000e+05 train accuracy: 0.298020 val accuracy: 0.311000\n",
        "lr 1.668101e-08 reg 1.000000e+06 train accuracy: 0.251367 val accuracy: 0.261000\n",
        "lr 2.782559e-06 reg 1.000000e-03 train accuracy: 0.390571 val accuracy: 0.368000\n",
        "lr 2.782559e-06 reg 1.000000e-02 train accuracy: 0.398082 val accuracy: 0.362000\n",
        "lr 2.782559e-06 reg 1.000000e-01 train accuracy: 0.390714 val accuracy: 0.360000\n",
        "lr 2.782559e-06 reg 1.000000e+00 train accuracy: 0.385694 val accuracy: 0.340000\n",
        "lr 2.782559e-06 reg 1.000000e+01 train accuracy: 0.400653 val accuracy: 0.380000\n",
        "lr 2.782559e-06 reg 1.000000e+02 train accuracy: 0.417082 val accuracy: 0.387000\n",
        "lr 2.782559e-06 reg 1.000000e+03 train accuracy: 0.394020 val accuracy: 0.379000\n",
        "lr 2.782559e-06 reg 1.000000e+04 train accuracy: 0.351980 val accuracy: 0.360000\n",
        "lr 2.782559e-06 reg 1.000000e+05 train accuracy: 0.274388 val accuracy: 0.277000\n",
        "lr 2.782559e-06 reg 1.000000e+06 train accuracy: 0.100265 val accuracy: 0.087000\n",
        "lr 4.641589e-04 reg 1.000000e-03 train accuracy: 0.100265 val accuracy: 0.087000\n",
        "lr 4.641589e-04 reg 1.000000e-02 train accuracy: 0.100265 val accuracy: 0.087000\n",
        "lr 4.641589e-04 reg 1.000000e-01 train accuracy: 0.100265 val accuracy: 0.087000\n",
        "lr 4.641589e-04 reg 1.000000e+00 train accuracy: 0.100265 val accuracy: 0.087000\n",
        "lr 4.641589e-04 reg 1.000000e+01 train accuracy: 0.100265 val accuracy: 0.087000\n",
        "lr 4.641589e-04 reg 1.000000e+02 train accuracy: 0.100265 val accuracy: 0.087000\n",
        "lr 4.641589e-04 reg 1.000000e+03 train accuracy: 0.100265 val accuracy: 0.087000\n",
        "lr 4.641589e-04 reg 1.000000e+04 train accuracy: 0.100265 val accuracy: 0.087000\n",
        "lr 4.641589e-04 reg 1.000000e+05 train accuracy: 0.100265 val accuracy: 0.087000\n",
        "lr 4.641589e-04 reg 1.000000e+06 train accuracy: 0.100265 val accuracy: 0.087000\n",
        "lr 7.742637e-02 reg 1.000000e-03 train accuracy: 0.100265 val accuracy: 0.087000\n",
        "lr 7.742637e-02 reg 1.000000e-02 train accuracy: 0.100265 val accuracy: 0.087000\n",
        "lr 7.742637e-02 reg 1.000000e-01 train accuracy: 0.100265 val accuracy: 0.087000\n",
        "lr 7.742637e-02 reg 1.000000e+00 train accuracy: 0.100265 val accuracy: 0.087000\n",
        "lr 7.742637e-02 reg 1.000000e+01 train accuracy: 0.100265 val accuracy: 0.087000\n",
        "lr 7.742637e-02 reg 1.000000e+02 train accuracy: 0.100265 val accuracy: 0.087000\n",
        "lr 7.742637e-02 reg 1.000000e+03 train accuracy: 0.100265 val accuracy: 0.087000\n",
        "lr 7.742637e-02 reg 1.000000e+04 train accuracy: 0.100265 val accuracy: 0.087000\n",
        "lr 7.742637e-02 reg 1.000000e+05 train accuracy: 0.100265 val accuracy: 0.087000\n",
        "lr 7.742637e-02 reg 1.000000e+06 train accuracy: 0.100265 val accuracy: 0.087000\n",
        "lr 1.291550e+01 reg 1.000000e-03 train accuracy: 0.100265 val accuracy: 0.087000\n",
        "lr 1.291550e+01 reg 1.000000e-02 train accuracy: 0.100265 val accuracy: 0.087000\n",
        "lr 1.291550e+01 reg 1.000000e-01 train accuracy: 0.100265 val accuracy: 0.087000\n",
        "lr 1.291550e+01 reg 1.000000e+00 train accuracy: 0.100265 val accuracy: 0.087000\n",
        "lr 1.291550e+01 reg 1.000000e+01 train accuracy: 0.100265 val accuracy: 0.087000\n",
        "lr 1.291550e+01 reg 1.000000e+02 train accuracy: 0.100265 val accuracy: 0.087000\n",
        "lr 1.291550e+01 reg 1.000000e+03 train accuracy: 0.100265 val accuracy: 0.087000\n",
        "lr 1.291550e+01 reg 1.000000e+04 train accuracy: 0.100265 val accuracy: 0.087000\n",
        "lr 1.291550e+01 reg 1.000000e+05 train accuracy: 0.100265 val accuracy: 0.087000\n",
        "lr 1.291550e+01 reg 1.000000e+06 train accuracy: 0.100265 val accuracy: 0.087000\n",
        "lr 2.154435e+03 reg 1.000000e-03 train accuracy: 0.100265 val accuracy: 0.087000\n",
        "lr 2.154435e+03 reg 1.000000e-02 train accuracy: 0.100265 val accuracy: 0.087000\n",
        "lr 2.154435e+03 reg 1.000000e-01 train accuracy: 0.100265 val accuracy: 0.087000\n",
        "lr 2.154435e+03 reg 1.000000e+00 train accuracy: 0.100265 val accuracy: 0.087000\n",
        "lr 2.154435e+03 reg 1.000000e+01 train accuracy: 0.100265 val accuracy: 0.087000\n",
        "lr 2.154435e+03 reg 1.000000e+02 train accuracy: 0.100265 val accuracy: 0.087000\n",
        "lr 2.154435e+03 reg 1.000000e+03 train accuracy: 0.100265 val accuracy: 0.087000\n",
        "lr 2.154435e+03 reg 1.000000e+04 train accuracy: 0.100265 val accuracy: 0.087000\n",
        "lr 2.154435e+03 reg 1.000000e+05 train accuracy: 0.100265 val accuracy: 0.087000\n",
        "lr 2.154435e+03 reg 1.000000e+06 train accuracy: 0.100265 val accuracy: 0.087000\n",
        "lr 3.593814e+05 reg 1.000000e-03 train accuracy: 0.100265 val accuracy: 0.087000\n",
        "lr 3.593814e+05 reg 1.000000e-02 train accuracy: 0.100265 val accuracy: 0.087000\n",
        "lr 3.593814e+05 reg 1.000000e-01 train accuracy: 0.100265 val accuracy: 0.087000\n",
        "lr 3.593814e+05 reg 1.000000e+00 train accuracy: 0.100265 val accuracy: 0.087000\n",
        "lr 3.593814e+05 reg 1.000000e+01 train accuracy: 0.100265 val accuracy: 0.087000\n",
        "lr 3.593814e+05 reg 1.000000e+02 train accuracy: 0.100265 val accuracy: 0.087000\n",
        "lr 3.593814e+05 reg 1.000000e+03 train accuracy: 0.100265 val accuracy: 0.087000\n",
        "lr 3.593814e+05 reg 1.000000e+04 train accuracy: 0.100265 val accuracy: 0.087000\n",
        "lr 3.593814e+05 reg 1.000000e+05 train accuracy: 0.100265 val accuracy: 0.087000\n",
        "lr 3.593814e+05 reg 1.000000e+06 train accuracy: 0.100265 val accuracy: 0.087000\n",
        "lr 5.994843e+07 reg 1.000000e-03 train accuracy: 0.100265 val accuracy: 0.087000\n",
        "lr 5.994843e+07 reg 1.000000e-02 train accuracy: 0.100265 val accuracy: 0.087000\n",
        "lr 5.994843e+07 reg 1.000000e-01 train accuracy: 0.100265 val accuracy: 0.087000\n",
        "lr 5.994843e+07 reg 1.000000e+00 train accuracy: 0.100265 val accuracy: 0.087000\n",
        "lr 5.994843e+07 reg 1.000000e+01 train accuracy: 0.100265 val accuracy: 0.087000\n",
        "lr 5.994843e+07 reg 1.000000e+02 train accuracy: 0.100265 val accuracy: 0.087000\n",
        "lr 5.994843e+07 reg 1.000000e+03 train accuracy: 0.100265 val accuracy: 0.087000\n",
        "lr 5.994843e+07 reg 1.000000e+04 train accuracy: 0.100265 val accuracy: 0.087000\n",
        "lr 5.994843e+07 reg 1.000000e+05 train accuracy: 0.100265 val accuracy: 0.087000\n",
        "lr 5.994843e+07 reg 1.000000e+06 train accuracy: 0.100265 val accuracy: 0.087000\n",
        "lr 1.000000e+10 reg 1.000000e-03 train accuracy: 0.100265 val accuracy: 0.087000\n",
        "lr 1.000000e+10 reg 1.000000e-02 train accuracy: 0.100265 val accuracy: 0.087000\n",
        "lr 1.000000e+10 reg 1.000000e-01 train accuracy: 0.100265 val accuracy: 0.087000\n",
        "lr 1.000000e+10 reg 1.000000e+00 train accuracy: 0.100265 val accuracy: 0.087000\n",
        "lr 1.000000e+10 reg 1.000000e+01 train accuracy: 0.100265 val accuracy: 0.087000\n",
        "lr 1.000000e+10 reg 1.000000e+02 train accuracy: 0.100265 val accuracy: 0.087000\n",
        "lr 1.000000e+10 reg 1.000000e+03 train accuracy: 0.100265 val accuracy: 0.087000\n",
        "lr 1.000000e+10 reg 1.000000e+04 train accuracy: 0.100265 val accuracy: 0.087000\n",
        "lr 1.000000e+10 reg 1.000000e+05 train accuracy: 0.100265 val accuracy: 0.087000\n",
        "lr 1.000000e+10 reg 1.000000e+06 train accuracy: 0.100265 val accuracy: 0.087000\n",
        "best validation accuracy achieved during cross-validation: 0.387000\n"
       ]
      },
      {
       "output_type": "stream",
       "stream": "stderr",
       "text": [
        "cs231n/classifiers/softmax.py:95: RuntimeWarning: divide by zero encountered in log\n",
        "  loss = -np.mean( np.log(np.exp(f_correct)/np.sum(np.exp(f))) )\n",
        "cs231n/classifiers/softmax.py:98: RuntimeWarning: invalid value encountered in divide\n",
        "  p = np.exp(f)/np.sum(np.exp(f), axis=0)\n"
       ]
      }
     ],
     "prompt_number": 6
    },
    {
     "cell_type": "code",
     "collapsed": false,
     "input": [
      "# evaluate on test set\n",
      "# Evaluate the best svm on test set\n",
      "y_test_pred = best_softmax.predict(X_test)\n",
      "test_accuracy = np.mean(y_test == y_test_pred)\n",
      "print 'softmax on raw pixels final test set accuracy: %f' % (test_accuracy, )"
     ],
     "language": "python",
     "metadata": {},
     "outputs": [
      {
       "output_type": "stream",
       "stream": "stdout",
       "text": [
        "softmax on raw pixels final test set accuracy: 0.384000\n"
       ]
      }
     ],
     "prompt_number": 9
    },
    {
     "cell_type": "code",
     "collapsed": false,
     "input": [
      "# Visualize the learned weights for each class\n",
      "w = best_softmax.W[:,:-1] # strip out the bias\n",
      "w = w.reshape(10, 32, 32, 3)\n",
      "\n",
      "w_min, w_max = np.min(w), np.max(w)\n",
      "\n",
      "classes = ['plane', 'car', 'bird', 'cat', 'deer', 'dog', 'frog', 'horse', 'ship', 'truck']\n",
      "for i in xrange(10):\n",
      "  plt.subplot(2, 5, i + 1)\n",
      "  \n",
      "  # Rescale the weights to be between 0 and 255\n",
      "  wimg = 255.0 * (w[i].squeeze() - w_min) / (w_max - w_min)\n",
      "  plt.imshow(wimg.astype('uint8'))\n",
      "  plt.axis('off')\n",
      "  plt.title(classes[i])"
     ],
     "language": "python",
     "metadata": {},
     "outputs": [
      {
       "metadata": {},
       "output_type": "display_data",
       "png": "[encoded data removed]",
       "text": [
        "<matplotlib.figure.Figure at 0x11bfd6fd0>"
       ]
      }
     ],
     "prompt_number": 10
    },
    {
     "cell_type": "code",
     "collapsed": false,
     "input": [],
     "language": "python",
     "metadata": {},
     "outputs": [],
     "prompt_number": 8
    },
    {
     "cell_type": "code",
     "collapsed": false,
     "input": [],
     "language": "python",
     "metadata": {},
     "outputs": []
    }
   ],
   "metadata": {}
  }
 ]
}