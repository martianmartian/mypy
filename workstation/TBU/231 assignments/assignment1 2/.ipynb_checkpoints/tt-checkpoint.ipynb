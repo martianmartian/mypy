{
 "cells": [
  {
   "cell_type": "code",
   "execution_count": 21,
   "metadata": {
    "collapsed": false
   },
   "outputs": [
    {
     "name": "stdout",
     "output_type": "stream",
     "text": [
      "1.80485138413e-35\n"
     ]
    }
   ],
   "source": [
    "#    ) )\n",
    "#    ( (\n",
    "#  ........\n",
    "# [|      |\n",
    "#  \\      /\n",
    "#   `----'\n",
    "\n",
    "import numpy as np\n",
    "f = np.arange(100).reshape(5,20)\n",
    "print np.sum(np.exp(f), axis=0)\n",
    "p = np.exp(f)/np.sum(np.exp(f), axis=0)\n",
    "print p[0,0]"
   ]
  },
  {
   "cell_type": "code",
   "execution_count": null,
   "metadata": {
    "collapsed": true
   },
   "outputs": [],
   "source": []
  }
 ],
 "metadata": {
  "kernelspec": {
   "display_name": "Python 2",
   "language": "python",
   "name": "python2"
  },
  "language_info": {
   "codemirror_mode": {
    "name": "ipython",
    "version": 2
   },
   "file_extension": ".py",
   "mimetype": "text/x-python",
   "name": "python",
   "nbconvert_exporter": "python",
   "pygments_lexer": "ipython2",
   "version": "2.7.11"
  }
 },
 "nbformat": 4,
 "nbformat_minor": 0
}
