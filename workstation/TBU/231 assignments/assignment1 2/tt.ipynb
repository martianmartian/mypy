{
 "cells": [
  {
   "cell_type": "code",
   "execution_count": 30,
   "metadata": {
    "collapsed": false
   },
   "outputs": [
    {
     "name": "stdout",
     "output_type": "stream",
     "text": [
      "[  1.           2.71828183   7.3890561   20.08553692  54.59815003]\n",
      "[[ 1.  1.  1.  1.  1.]]\n"
     ]
    }
   ],
   "source": [
    "#    ) )\n",
    "#    ( (\n",
    "#  ........\n",
    "# [|      |\n",
    "#  \\      /\n",
    "#   `----'\n",
    "\n",
    "import numpy as np\n",
    "f = np.arange(5).reshape(1,5)\n",
    "print np.sum(np.exp(f), axis=0)\n",
    "p = np.exp(f)/np.sum(np.exp(f), axis=0)\n",
    "print p\n",
    "# np.exp(f)/np.sum(np.exp(f), axis=0)"
   ]
  },
  {
   "cell_type": "code",
   "execution_count": null,
   "metadata": {
    "collapsed": true
   },
   "outputs": [],
   "source": []
  }
 ],
 "metadata": {
  "kernelspec": {
   "display_name": "Python 2",
   "language": "python",
   "name": "python2"
  },
  "language_info": {
   "codemirror_mode": {
    "name": "ipython",
    "version": 2
   },
   "file_extension": ".py",
   "mimetype": "text/x-python",
   "name": "python",
   "nbconvert_exporter": "python",
   "pygments_lexer": "ipython2",
   "version": "2.7.11"
  }
 },
 "nbformat": 4,
 "nbformat_minor": 0
}
